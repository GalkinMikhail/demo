{
 "cells": [
  {
   "cell_type": "markdown",
   "metadata": {},
   "source": [
    "# Numpy"
   ]
  },
  {
   "cell_type": "markdown",
   "metadata": {},
   "source": [
    "## Лабораторная работа №1.1"
   ]
  },
  {
   "cell_type": "markdown",
   "metadata": {},
   "source": [
    "Замечание: при решении данных задач не подразумевается использования циклов или генераторов Python, если в задании не сказано обратного. Решение должно опираться на использования функционала библиотеки `numpy`."
   ]
  },
  {
   "cell_type": "markdown",
   "metadata": {},
   "source": [
    "1. Файл `minutes_n_ingredients.csv` содержит информацию об идентификаторе рецепта, времени его выполнения в минутах и количестве необходимых ингредиентов. Считайте данные из этого файла в виде массива `numpy` типа `int32`, используя `np.loadtxt`. Выведите на экран первые 5 строк массива."
   ]
  },
  {
   "cell_type": "markdown",
   "metadata": {},
   "source": [
    "2. Вычислите среднее значение, минимум, максимум и медиану по каждому из столбцов, кроме первого."
   ]
  },
  {
   "cell_type": "markdown",
   "metadata": {},
   "source": [
    "3. Ограничьте сверху значения продолжительности выполнения рецепта значением квантиля $q_{0.75}$. "
   ]
  },
  {
   "cell_type": "markdown",
   "metadata": {},
   "source": [
    "4. Посчитайте, для скольких рецептов указана продолжительность, равная нулю. Замените для таких строк значение в данном столбце на 1."
   ]
  },
  {
   "cell_type": "markdown",
   "metadata": {},
   "source": [
    "5. Посчитайте, сколько уникальных рецептов находится в датасете."
   ]
  },
  {
   "cell_type": "code",
   "execution_count": 13,
   "metadata": {},
   "outputs": [
    {
     "name": "stdout",
     "output_type": "stream",
     "text": [
      "[[127244     60     16]\n",
      " [ 23891     25      7]\n",
      " [ 94746     10      6]\n",
      " [ 67660      5      6]\n",
      " [157911     60     14]]\n"
     ]
    }
   ],
   "source": [
    "import numpy as np\n",
    "# 1\n",
    "data = np.loadtxt('minutes_n_ingredients.csv',  int, skiprows=1, delimiter=',')\n",
    "print(data[0:5])"
   ]
  },
  {
   "cell_type": "code",
   "execution_count": 70,
   "metadata": {},
   "outputs": [
    {
     "name": "stdout",
     "output_type": "stream",
     "text": [
      "Минуты:\n",
      "Среднее: 21601.00648\n",
      "Минимум: 1\n",
      "Максимум: 2147483647\n",
      "Медиана: 40.0\n",
      "\n",
      "Ингридиенты:\n",
      "Среднее: 9.05528\n",
      "Минимум: 1\n",
      "Максимум: 39\n",
      "Медиана: 9.0\n"
     ]
    }
   ],
   "source": [
    "#2\n",
    "mean_minutes = np.average(data[:, 1])\n",
    "min_minutes = np.min(data[:, 1])\n",
    "max_minutes = np.max(data[:, 1])\n",
    "median_minutes = np.median(data[:, 1])\n",
    "\n",
    "mean_n_ingredients = np.average(data[:, 2])\n",
    "min_n_ingredients = np.min(data[:, 2])\n",
    "max_n_ingredients = np.max(data[:, 2])\n",
    "median_n_ingredients = np.median(data[:, 2])\n",
    "\n",
    "print(\"Минуты:\")\n",
    "print(\"Среднее:\", mean_minutes)\n",
    "print(\"Минимум:\", min_minutes)\n",
    "print(\"Максимум:\", max_minutes)\n",
    "print(\"Медиана:\", median_minutes)\n",
    "\n",
    "print(\"\\nИнгридиенты:\")\n",
    "print(\"Среднее:\", mean_n_ingredients)\n",
    "print(\"Минимум:\", min_n_ingredients)\n",
    "print(\"Максимум:\", max_n_ingredients)\n",
    "print(\"Медиана:\", median_n_ingredients)"
   ]
  },
  {
   "cell_type": "code",
   "execution_count": 27,
   "metadata": {},
   "outputs": [
    {
     "name": "stdout",
     "output_type": "stream",
     "text": [
      "Квантиль: 65.0\n",
      "[[127244     60     16]\n",
      " [ 23891     25      7]\n",
      " [ 94746     10      6]\n",
      " ...\n",
      " [498432     65     15]\n",
      " [370915      5      4]\n",
      " [ 81993     65     14]]\n"
     ]
    }
   ],
   "source": [
    "#3\n",
    "# Вычисляем квантиль 0.75\n",
    "quantile_75 = np.quantile(data[:, 1], 0.75)\n",
    "\n",
    "# Ограничиваем по значению квантиля 0.75\n",
    "data[:, 1] = np.where(data[:, 1] > quantile_75, quantile_75, data[:, 1])\n",
    "\n",
    "print(\"Квантиль:\", quantile_75)\n",
    "print(data)"
   ]
  },
  {
   "cell_type": "code",
   "execution_count": 32,
   "metadata": {},
   "outputs": [
    {
     "name": "stdout",
     "output_type": "stream",
     "text": [
      "Количество рецептов с продолжительностью, равной 0: 479\n"
     ]
    }
   ],
   "source": [
    "#4\n",
    "#data = np.loadtxt('minutes_n_ingredients.csv',  int, skiprows=1, delimiter=',')\n",
    "# подсчет количества рецептов с продолжительностью, равной 0\n",
    "num_zero_duration = np.count_nonzero(data[:, 1] == 0)\n",
    "\n",
    "# замена значения 0 продолжительности на 1 в соответствующих строках\n",
    "data[:, 1] = np.where(data[:, 1] == 0, 1, data[:, 1])\n",
    "\n",
    "# вывод результатов\n",
    "print(f\"Количество рецептов с продолжительностью, равной 0: {num_zero_duration}\")"
   ]
  },
  {
   "cell_type": "code",
   "execution_count": 33,
   "metadata": {},
   "outputs": [
    {
     "name": "stdout",
     "output_type": "stream",
     "text": [
      "Количество уникальных рецептов: 100000\n"
     ]
    }
   ],
   "source": [
    "#5\n",
    "unique_recipes = np.unique(data[:, 0])\n",
    "print(\"Количество уникальных рецептов:\", len(unique_recipes))"
   ]
  },
  {
   "cell_type": "markdown",
   "metadata": {},
   "source": [
    "## Лабораторная работа №1.2"
   ]
  },
  {
   "cell_type": "markdown",
   "metadata": {},
   "source": [
    "6. Сколько и каких различных значений кол-ва ингредиентов присутвует в рецептах из датасета?"
   ]
  },
  {
   "cell_type": "code",
   "execution_count": 37,
   "metadata": {},
   "outputs": [
    {
     "name": "stdout",
     "output_type": "stream",
     "text": [
      "37\n",
      "[ 1  2  3  4  5  6  7  8  9 10 11 12 13 14 15 16 17 18 19 20 21 22 23 24\n",
      " 25 26 27 28 29 30 31 32 33 34 35 37 39]\n"
     ]
    }
   ],
   "source": [
    "#6\n",
    "unique_values = np.unique(data[:, 2])\n",
    "print(len(unique_values))\n",
    "print(unique_values)"
   ]
  },
  {
   "cell_type": "markdown",
   "metadata": {},
   "source": [
    "7. Создайте версию массива, содержащую информацию только о рецептах, состоящих не более чем из 5 ингредиентов."
   ]
  },
  {
   "cell_type": "code",
   "execution_count": 39,
   "metadata": {},
   "outputs": [
    {
     "name": "stdout",
     "output_type": "stream",
     "text": [
      "[[446597     15      5]\n",
      " [204134      5      3]\n",
      " [ 25623      6      4]\n",
      " ...\n",
      " [ 52088     60      5]\n",
      " [128811     15      4]\n",
      " [370915      5      4]]\n"
     ]
    }
   ],
   "source": [
    "#7\n",
    "new_data = data[data[:, 2] <= 5]\n",
    "print(new_data)"
   ]
  },
  {
   "cell_type": "markdown",
   "metadata": {},
   "source": [
    "8. Для каждого рецепта посчитайте, сколько в среднем ингредиентов приходится на одну минуту рецепта. Найдите максимальное значение этой величины для всего датасета"
   ]
  },
  {
   "cell_type": "code",
   "execution_count": 40,
   "metadata": {},
   "outputs": [
    {
     "name": "stdout",
     "output_type": "stream",
     "text": [
      "Максимальное значение количества ингредиентов на одну минуту: 24.0\n"
     ]
    }
   ],
   "source": [
    "#8\n",
    "# расчет количества ингредиентов на одну минуту для каждого рецепта\n",
    "ingr_per_min = data[:, 2] / data[:, 1]\n",
    "\n",
    "# поиск максимального значения количества ингредиентов на одну минуту\n",
    "max_ingr_per_min = ingr_per_min.max()\n",
    "\n",
    "print(\"Максимальное значение количества ингредиентов на одну минуту:\", max_ingr_per_min)"
   ]
  },
  {
   "cell_type": "markdown",
   "metadata": {},
   "source": [
    "9. Вычислите среднее количество ингредиентов для топ-100 рецептов с наибольшей продолжительностью"
   ]
  },
  {
   "cell_type": "code",
   "execution_count": 41,
   "metadata": {},
   "outputs": [
    {
     "name": "stdout",
     "output_type": "stream",
     "text": [
      "Среднее количество ингредиентов для топ-100 рецептов: 6.61\n"
     ]
    }
   ],
   "source": [
    "#9\n",
    "# сортировка данных по убыванию времени приготовления\n",
    "sorted_data = data[data[:, 1].argsort()[::-1]]\n",
    "\n",
    "# выбор первых 100 рецептов из отсортированного массива\n",
    "top_100_data = sorted_data[:100, :]\n",
    "\n",
    "# вычисление среднего значения количества ингредиентов для топ-100 рецептов\n",
    "mean_ingredients = np.mean(top_100_data[:, 2])\n",
    "\n",
    "print(\"Среднее количество ингредиентов для топ-100 рецептов:\", mean_ingredients)"
   ]
  },
  {
   "cell_type": "markdown",
   "metadata": {},
   "source": [
    "10. Выберите случайным образом и выведите информацию о 10 различных рецептах"
   ]
  },
  {
   "cell_type": "code",
   "execution_count": 43,
   "metadata": {},
   "outputs": [
    {
     "name": "stdout",
     "output_type": "stream",
     "text": [
      "[[431297     15      4]\n",
      " [ 87659     25     13]\n",
      " [217153      8      9]\n",
      " [ 41898    100     14]\n",
      " [167072     60     11]\n",
      " [ 83370     70      7]\n",
      " [344831     50      6]\n",
      " [235743     20      9]\n",
      " [ 98622     30      9]\n",
      " [ 79793    150     11]]\n"
     ]
    }
   ],
   "source": [
    "#10\n",
    "# Выбираем 10 случайных индексов\n",
    "random_indexes = np.random.choice(len(data), size=10, replace=False)\n",
    "\n",
    "# Извлекаем строки с этими индексами из датасета\n",
    "random_recipes = data[random_indexes]\n",
    "\n",
    "# Выводим информацию о выбранных рецептах\n",
    "print(random_recipes)"
   ]
  },
  {
   "cell_type": "markdown",
   "metadata": {},
   "source": [
    "11. Выведите процент рецептов, кол-во ингредиентов в которых меньше среднего."
   ]
  },
  {
   "cell_type": "code",
   "execution_count": 48,
   "metadata": {},
   "outputs": [
    {
     "name": "stdout",
     "output_type": "stream",
     "text": [
      "Процент рецептов, кол-во ингредиентов в которых меньше среднего: 58.802\n"
     ]
    }
   ],
   "source": [
    "#11\n",
    "# Вычисляем среднее количество ингредиентов в рецептах\n",
    "mean_ingr = data[:, 2].mean()\n",
    "\n",
    "# Вычисляем количество рецептов, количество ингредиентов в которых меньше среднего\n",
    "less_than_mean = len(data[data[:, 2] < mean_ingr])\n",
    "\n",
    "# Рассчитываем процент таких рецептов\n",
    "percent_less_than_mean = less_than_mean / len(data) * 100\n",
    "\n",
    "print(\"Процент рецептов, кол-во ингредиентов в которых меньше среднего:\", percent_less_than_mean)"
   ]
  },
  {
   "cell_type": "markdown",
   "metadata": {},
   "source": [
    "12. Назовем \"простым\" такой рецепт, длительность выполнения которого не больше 20 минут и кол-во ингредиентов в котором не больше 5. Создайте версию датасета с дополнительным столбцом, значениями которого являются 1, если рецепт простой, и 0 в противном случае."
   ]
  },
  {
   "cell_type": "code",
   "execution_count": 81,
   "metadata": {},
   "outputs": [
    {
     "name": "stdout",
     "output_type": "stream",
     "text": [
      "[[127244     60     16      0]\n",
      " [ 23891     25      7      0]\n",
      " [ 94746     10      6      0]\n",
      " ...\n",
      " [498432     65     15      0]\n",
      " [370915      5      4      1]\n",
      " [ 81993    140     14      0]]\n"
     ]
    }
   ],
   "source": [
    "#12\n",
    "# Задаем массивы-условия\n",
    "time_cond = data[:, 1] <= 20\n",
    "ingr_cond = data[:, 2] <= 5\n",
    "\n",
    "# Массив, состоящий из единиц, длиной равной количеству строк в исходном датасете\n",
    "simple_cond = np.zeros(len(data)).astype(int)\n",
    "\n",
    "# Заменим значение элементов этого массива на 1 для тех строк, которые удовлетворяют обоим условиям\n",
    "simple_cond[time_cond & ingr_cond] = 1\n",
    "\n",
    "# Добавим этот столбец к исходному массиву\n",
    "simple_data = np.c_[data, simple_cond]\n",
    "\n",
    "print(simple_data)"
   ]
  },
  {
   "cell_type": "markdown",
   "metadata": {},
   "source": [
    "13. Выведите процент \"простых\" рецептов в датасете"
   ]
  },
  {
   "cell_type": "code",
   "execution_count": 57,
   "metadata": {},
   "outputs": [
    {
     "name": "stdout",
     "output_type": "stream",
     "text": [
      "Процент 'простых' рецептов: 9.552\n"
     ]
    }
   ],
   "source": [
    "#13\n",
    "simple_percent = simple_cond.mean() * 100\n",
    "print(\"Процент 'простых' рецептов:\",simple_percent)"
   ]
  },
  {
   "cell_type": "markdown",
   "metadata": {},
   "source": [
    "14. Разделим рецепты на группы по следующему правилу. Назовем рецепты короткими, если их продолжительность составляет менее 10 минут; стандартными, если их продолжительность составляет более 10, но менее 20 минут; и длинными, если их продолжительность составляет не менее 20 минут. Создайте трехмерный массив, где нулевая ось отвечает за номер группы (короткий, стандартный или длинный рецепт), первая ось - за сам рецепт и вторая ось - за характеристики рецепта. Выберите максимальное количество рецептов из каждой группы таким образом, чтобы было возможно сформировать трехмерный массив. Выведите форму полученного массива."
   ]
  },
  {
   "cell_type": "code",
   "execution_count": 97,
   "metadata": {},
   "outputs": [
    {
     "name": "stdout",
     "output_type": "stream",
     "text": [
      "Форма полученного массива: (698, 3, 3)\n",
      "Короткие рецепты:\n",
      " [[ 23891     25      7]\n",
      " [ 94746     10      6]\n",
      " [ 67660      5      6]\n",
      " ...\n",
      " [353962    120      8]\n",
      " [ 54520     15      7]\n",
      " [ 85934      5      6]]\n",
      "Стандартные рецепты:\n",
      " [[127244     60     16]\n",
      " [157911     60     14]\n",
      " [504666     65     20]\n",
      " ...\n",
      " [ 24955    110     12]\n",
      " [256126     30     11]\n",
      " [338378     45     11]]\n",
      "Длинные рецепты:\n",
      " [[216748    120     21]\n",
      " [  3116     90     24]\n",
      " [487806     65     21]\n",
      " ...\n",
      " [188457    735     26]\n",
      " [ 51720     30     22]\n",
      " [451245    390     21]]\n"
     ]
    }
   ],
   "source": [
    "#14\n",
    "data = np.loadtxt('minutes_n_ingredients.csv', int, skiprows=1, delimiter=',')\n",
    "\n",
    "# Формирование масок\n",
    "mask_short = data[:, 2] <= 10\n",
    "mask_medium = (data[:, 2] > 10) & (data[:, 2] <= 20)\n",
    "mask_long = data[:, 2] > 20\n",
    "\n",
    "# Формирование массивов с фильтрацией по маскам\n",
    "short = data[mask_short]\n",
    "medium = data[mask_medium]\n",
    "long = data[mask_long]\n",
    "\n",
    "# Вычисление минимального числа строк среди массивов\n",
    "min_cnt = min(short.shape[0], medium.shape[0], long.shape[0])\n",
    "\n",
    "# Конкатенируем массивы для формирования трёхмерного массива\n",
    "data = np.concatenate((np.expand_dims(short[:min_cnt], axis=1),\n",
    "                      np.expand_dims(medium[:min_cnt], axis=1),\n",
    "                      np.expand_dims(long[:min_cnt], axis=1)), axis=1)\n",
    "\n",
    "print('Форма полученного массива:', data.shape)\n",
    "print('Короткие рецепты:\\n', data[:, 0, :])\n",
    "print('Стандартные рецепты:\\n', data[:, 1, :])\n",
    "print('Длинные рецепты:\\n', data[:, 2, :])"
   ]
  },
  {
   "cell_type": "code",
   "execution_count": null,
   "metadata": {},
   "outputs": [],
   "source": []
  }
 ],
 "metadata": {
  "kernelspec": {
   "display_name": "Python 3 (ipykernel)",
   "language": "python",
   "name": "python3"
  },
  "language_info": {
   "codemirror_mode": {
    "name": "ipython",
    "version": 3
   },
   "file_extension": ".py",
   "mimetype": "text/x-python",
   "name": "python",
   "nbconvert_exporter": "python",
   "pygments_lexer": "ipython3",
   "version": "3.8.9"
  }
 },
 "nbformat": 4,
 "nbformat_minor": 4
}
